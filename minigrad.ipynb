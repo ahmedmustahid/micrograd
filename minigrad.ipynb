{
 "cells": [
  {
   "cell_type": "code",
   "execution_count": null,
   "id": "2e8988fb-68f1-48c6-9325-36f550ea5b62",
   "metadata": {},
   "outputs": [],
   "source": [
    "import numpy as np\n",
    "import matplotlib.pyplot as plt\n",
    "import math\n",
    "%matplotlib inline"
   ]
  },
  {
   "cell_type": "code",
   "execution_count": null,
   "id": "cff2d6da-feae-467e-b99c-77cf9f1a8f26",
   "metadata": {},
   "outputs": [],
   "source": [
    "def f(x):\n",
    "    return 3*x**2 -4*x + 5"
   ]
  },
  {
   "cell_type": "code",
   "execution_count": null,
   "id": "e79a7030-66c3-4e9f-b12b-1de518844f12",
   "metadata": {},
   "outputs": [],
   "source": [
    "f(3)"
   ]
  },
  {
   "cell_type": "code",
   "execution_count": null,
   "id": "df8b7706-f8d6-4f14-b1e1-bba52928791c",
   "metadata": {},
   "outputs": [],
   "source": [
    "xs = np.arange(-5,5,0.25)\n",
    "xs"
   ]
  },
  {
   "cell_type": "code",
   "execution_count": null,
   "id": "02d8d6e0-841c-49c1-8cfe-045e70b2cc66",
   "metadata": {},
   "outputs": [],
   "source": [
    "ys = f(xs)\n",
    "ys"
   ]
  },
  {
   "cell_type": "code",
   "execution_count": null,
   "id": "bd618416-848c-4f2d-97be-c3666f6a5282",
   "metadata": {},
   "outputs": [],
   "source": [
    "plt.plot(xs,ys)"
   ]
  },
  {
   "cell_type": "code",
   "execution_count": null,
   "id": "d3966789-3cae-4a1b-a559-ebfbdbf8b05a",
   "metadata": {},
   "outputs": [],
   "source": [
    "h = 0.0001\n",
    "x = 3.0\n",
    "(f(x+h) - f(x))/h"
   ]
  },
  {
   "cell_type": "code",
   "execution_count": null,
   "id": "ea9f6b95-2707-4d04-9440-50ff7c908fb3",
   "metadata": {},
   "outputs": [],
   "source": [
    "h = 0.0001\n",
    "x = -3.0\n",
    "(f(x+h) - f(x))/h"
   ]
  },
  {
   "cell_type": "code",
   "execution_count": null,
   "id": "784310e8-362b-44d5-a090-9db1a1e1675f",
   "metadata": {},
   "outputs": [],
   "source": [
    "#get more complex\n",
    "a = 2.0\n",
    "b = -3.0\n",
    "c = 10\n",
    "d = a * b + c\n",
    "print(d)"
   ]
  },
  {
   "cell_type": "code",
   "execution_count": null,
   "id": "a8c31117-cdad-4414-8db3-757c01f7f233",
   "metadata": {},
   "outputs": [],
   "source": [
    "h=0.00001\n",
    "\n",
    "#inputs\n",
    "a = 2.0\n",
    "b = -3.0\n",
    "c = 10\n",
    "d1 = a * b + c\n",
    "\n",
    "a += h\n",
    "d2 = a * b + c\n",
    "\n",
    "print(\"d2\", d2)\n",
    "print(\"d1\", d1)\n",
    "\n",
    "print(\"slope\", (d2 - d1)/h)"
   ]
  },
  {
   "cell_type": "code",
   "execution_count": null,
   "id": "2eea8566-d330-498a-85aa-5d918357957b",
   "metadata": {},
   "outputs": [],
   "source": [
    "d1 = a * b + c\n",
    "\n",
    "b += h\n",
    "d2 = a * b + c\n"
   ]
  },
  {
   "cell_type": "code",
   "execution_count": null,
   "id": "6814df06-88a1-4cc8-833c-30301fe58d04",
   "metadata": {},
   "outputs": [],
   "source": [
    "print(\"d2\", d2)\n",
    "print(\"d1\", d1)\n",
    "\n",
    "print(\"slope\", (d2 - d1)/h)"
   ]
  },
  {
   "cell_type": "code",
   "execution_count": null,
   "id": "4641c702-c122-42ee-88ab-4c1de7560b1e",
   "metadata": {},
   "outputs": [],
   "source": [
    "d1 = a * b + c\n",
    "\n",
    "c += h\n",
    "d2 = a * b + c"
   ]
  },
  {
   "cell_type": "code",
   "execution_count": null,
   "id": "d739ae7b-4b06-48c9-9211-ce0817162035",
   "metadata": {},
   "outputs": [],
   "source": [
    "print(\"d2\", d2)\n",
    "print(\"d1\", d1)\n",
    "\n",
    "print(\"slope\", (d2 - d1)/h)"
   ]
  },
  {
   "cell_type": "markdown",
   "id": "ebf32836-639d-4b8c-81c7-eef20fdd26a3",
   "metadata": {},
   "source": [
    "## Neural Nets"
   ]
  },
  {
   "cell_type": "code",
   "execution_count": null,
   "id": "01f9a99a-3657-4a59-a430-3d63e02f5daf",
   "metadata": {},
   "outputs": [],
   "source": [
    "class Value:\n",
    "    def __init__(self,data):\n",
    "        self.data = data\n",
    "    def __repr__(self):\n",
    "        return f\"Value(data={self.data})\"\n",
    "    def __add__(self, other):\n",
    "        return Value(self.data + other.data)\n",
    "    def __mul__(self, other):\n",
    "        return Value(self.data * other.data)"
   ]
  },
  {
   "cell_type": "code",
   "execution_count": null,
   "id": "31177fb4-63f0-4cbe-bca7-070e55a359de",
   "metadata": {},
   "outputs": [],
   "source": [
    "a = Value(2.0)\n",
    "b = Value(-3.0)\n",
    "c = Value(10.0)\n",
    "a + b\n"
   ]
  },
  {
   "cell_type": "code",
   "execution_count": null,
   "id": "f50fa9c0-b712-4ac8-8da7-b3b86b25e265",
   "metadata": {},
   "outputs": [],
   "source": [
    "a * b"
   ]
  },
  {
   "cell_type": "code",
   "execution_count": null,
   "id": "fbcbe465-2977-47be-88e9-1f137b968064",
   "metadata": {},
   "outputs": [],
   "source": [
    "a * b + c"
   ]
  },
  {
   "cell_type": "markdown",
   "id": "0b873a8a-e52c-4979-802f-07a5d6171ec8",
   "metadata": {},
   "source": [
    "Add children to each operation"
   ]
  },
  {
   "cell_type": "code",
   "execution_count": null,
   "id": "6ff8bca9-487d-4010-903d-9449ca0f0e40",
   "metadata": {},
   "outputs": [],
   "source": [
    "class Value:\n",
    "    def __init__(self,data, _children=()):\n",
    "        self.data = data\n",
    "        self._prev = set(_children)\n",
    "    def __repr__(self):\n",
    "        return f\"Value(data={self.data})\"\n",
    "    def __add__(self, other):\n",
    "        out = Value(self.data + other.data, _children=(self, other))\n",
    "        return out\n",
    "    def __mul__(self, other):\n",
    "        out = Value(self.data * other.data, _children=(self, other))\n",
    "        return out"
   ]
  },
  {
   "cell_type": "code",
   "execution_count": null,
   "id": "e5d2f752-d0bd-417d-b5f2-9b4be048ea8b",
   "metadata": {},
   "outputs": [],
   "source": [
    "a = Value(2.0)\n",
    "b = Value(-3.0)\n",
    "c = Value(10.0)\n",
    "d = a * b + c\n",
    "d"
   ]
  },
  {
   "cell_type": "code",
   "execution_count": null,
   "id": "142e4bcb-eb4d-41b6-a2e3-e43441c60258",
   "metadata": {},
   "outputs": [],
   "source": [
    "d._prev"
   ]
  },
  {
   "cell_type": "markdown",
   "id": "1d4ae28f-fc2f-43e5-aca1-88c5448e2994",
   "metadata": {},
   "source": [
    "Adding operation name to each operation type"
   ]
  },
  {
   "cell_type": "code",
   "execution_count": null,
   "id": "02f2104d-d357-49e6-852c-0aec5fdf675c",
   "metadata": {},
   "outputs": [],
   "source": [
    "class Value:\n",
    "    def __init__(self,data, _children=(), _op = '', label=''):\n",
    "        self.data = data\n",
    "        self._prev = set(_children)\n",
    "        self._op = _op\n",
    "        self.label = label\n",
    "        self.grad = 0.0\n",
    "    def __repr__(self):\n",
    "        return f\"Value(data={self.data})\"\n",
    "    def __add__(self, other):\n",
    "        out = Value(self.data + other.data, _children=(self, other), _op='+')\n",
    "        return out\n",
    "    def __mul__(self, other):\n",
    "        out = Value(self.data * other.data, _children=(self, other), _op='*')\n",
    "        return out"
   ]
  },
  {
   "cell_type": "code",
   "execution_count": null,
   "id": "003efec4-cf23-45ee-9a70-c2c9c594c253",
   "metadata": {},
   "outputs": [],
   "source": [
    "a = Value(2.0, label='a')\n",
    "b = Value(-3.0, label='b')\n",
    "c = Value(10.0, label='c')\n",
    "e = a * b; e.label = 'e'\n",
    "d = e + c\n",
    "d.label = 'd'\n",
    "\n",
    "f = Value(-2.0, label='f')\n",
    "L = d * f\n",
    "L.label = 'L'\n",
    "L"
   ]
  },
  {
   "cell_type": "code",
   "execution_count": null,
   "id": "427b9237-7cf1-4670-a874-3399134f542c",
   "metadata": {},
   "outputs": [],
   "source": [
    "d._prev"
   ]
  },
  {
   "cell_type": "code",
   "execution_count": null,
   "id": "6e8f13b4-b547-4bee-80b7-925f14a56351",
   "metadata": {},
   "outputs": [],
   "source": [
    "d._op"
   ]
  },
  {
   "cell_type": "markdown",
   "id": "37520e2a-bb56-4bcc-94d1-3996bf01324e",
   "metadata": {},
   "source": [
    "### Visualization code"
   ]
  },
  {
   "cell_type": "code",
   "execution_count": null,
   "id": "aac20ee9-5c05-4311-b8b9-82f39f106736",
   "metadata": {},
   "outputs": [],
   "source": [
    "from graphviz import Digraph\n",
    "\n",
    "def trace(root):\n",
    "  # builds a set of all nodes and edges in a graph\n",
    "  nodes, edges = set(), set()\n",
    "  def build(v):\n",
    "    if v not in nodes:\n",
    "      nodes.add(v)\n",
    "      for child in v._prev:\n",
    "        edges.add((child, v))\n",
    "        build(child)\n",
    "  build(root)\n",
    "  return nodes, edges\n",
    "\n",
    "def draw_dot(root):\n",
    "  dot = Digraph(format='svg', graph_attr={'rankdir': 'LR'}) # LR = left to right\n",
    "  \n",
    "  nodes, edges = trace(root)\n",
    "  for n in nodes:\n",
    "    uid = str(id(n))\n",
    "    # for any value in the graph, create a rectangular ('record') node for it\n",
    "    # dot.node(name = uid, label = \"{ %s | data %.4f }\" % (n.label, n.data), shape='record')\n",
    "    dot.node(name = uid, label = \"{ %s | data %.4f | grad %.4f }\" % (n.label, n.data, n.grad), shape='record')\n",
    "    if n._op:\n",
    "      # if this value is a result of some operation, create an op node for it\n",
    "      dot.node(name = uid + n._op, label = n._op)\n",
    "      # and connect this node to it\n",
    "      dot.edge(uid + n._op, uid)\n",
    "\n",
    "  for n1, n2 in edges:\n",
    "    # connect n1 to the op node of n2\n",
    "    dot.edge(str(id(n1)), str(id(n2)) + n2._op)\n",
    "\n",
    "  return dot"
   ]
  },
  {
   "cell_type": "code",
   "execution_count": null,
   "id": "a815706b-255a-4f5d-bd11-1f85d65cb803",
   "metadata": {},
   "outputs": [],
   "source": [
    "L.grad = 1.0"
   ]
  },
  {
   "cell_type": "code",
   "execution_count": null,
   "id": "8212f552-b65d-49e3-811a-d36f0c39e1b9",
   "metadata": {},
   "outputs": [],
   "source": [
    "f.grad = 4.0 #because f.grad is dL/df = d\n",
    "d.grad = -2.0 #because f.grad is dL/dd = f"
   ]
  },
  {
   "cell_type": "code",
   "execution_count": null,
   "id": "b0cbeb51-3cb0-4d36-ac2c-f3235be18820",
   "metadata": {},
   "outputs": [],
   "source": [
    "#d = e +c\n",
    "c.grad = -2.0 #dd/dc * dL/dd\n",
    "e.grad = -2.0 #same as c by symmetry"
   ]
  },
  {
   "cell_type": "code",
   "execution_count": null,
   "id": "bd84cfd6-0d1e-49bc-bd41-e9ac0f0930d8",
   "metadata": {},
   "outputs": [],
   "source": [
    "a.grad = (-2.0 * -3.0) #dL/de * de/da\n",
    "b.grad = (2.0 * -2.0) #dL/de * de/db"
   ]
  },
  {
   "cell_type": "code",
   "execution_count": null,
   "id": "79fd0e76-56f0-47f4-97ee-46032073c57a",
   "metadata": {
    "scrolled": true
   },
   "outputs": [],
   "source": [
    "draw_dot(L)"
   ]
  },
  {
   "cell_type": "code",
   "execution_count": null,
   "id": "dd350591-76ba-40c7-aa64-05d046be0a85",
   "metadata": {},
   "outputs": [],
   "source": [
    "#dL/da\n",
    "def lol():\n",
    "    h = 0.00001\n",
    "    \n",
    "    a = Value(2.0, label='a')\n",
    "    b = Value(-3.0, label='b')\n",
    "    c = Value(10.0, label='c')\n",
    "    e = a * b; e.label = 'e'\n",
    "    d = e + c\n",
    "    d.label = 'd'\n",
    "    \n",
    "    f = Value(-2.0, label='f')\n",
    "    L = d * f\n",
    "    L.label = 'L'\n",
    "    L1 = L.data \n",
    "\n",
    "    a = Value(2.0 + h, label='a')\n",
    "    b = Value(-3.0, label='b')\n",
    "    c = Value(10.0, label='c')\n",
    "    e = a * b; e.label = 'e'\n",
    "    d = e + c\n",
    "    d.label = 'd'\n",
    "\n",
    "    \n",
    "    f = Value(-2.0, label='f')\n",
    "    L = d * f\n",
    "    L.label = 'L'\n",
    "    L2 = L.data \n",
    "\n",
    "    print((L2-L1)/h)\n",
    "\n",
    "lol()"
   ]
  },
  {
   "cell_type": "code",
   "execution_count": null,
   "id": "4e1aab23-8804-4de0-bb46-ee2802482fda",
   "metadata": {},
   "outputs": [],
   "source": [
    "#dL/dd\n",
    "def lol():\n",
    "    h = 0.00001\n",
    "    \n",
    "    a = Value(2.0, label='a')\n",
    "    b = Value(-3.0, label='b')\n",
    "    c = Value(10.0, label='c')\n",
    "    e = a * b; e.label = 'e'\n",
    "    d = e + c\n",
    "    d.label = 'd'\n",
    "    \n",
    "    f = Value(-2.0, label='f')\n",
    "    L = d * f\n",
    "    L.label = 'L'\n",
    "    L1 = L.data \n",
    "\n",
    "    a = Value(2.0, label='a')\n",
    "    b = Value(-3.0, label='b')\n",
    "    c = Value(10.0, label='c')\n",
    "    e = a * b; e.label = 'e'\n",
    "    d = e + c\n",
    "    d.label = 'd'\n",
    "\n",
    "    d.data += h\n",
    "     \n",
    "    f = Value(-2.0, label='f')\n",
    "    L = d * f\n",
    "    L.label = 'L'\n",
    "    L2 = L.data \n",
    "\n",
    "    print((L2-L1)/h)\n",
    "\n",
    "lol()"
   ]
  },
  {
   "cell_type": "code",
   "execution_count": null,
   "id": "91803f43-fea6-4bf7-ba63-4b43d6905721",
   "metadata": {},
   "outputs": [],
   "source": [
    "#dL/df\n",
    "def lol():\n",
    "    h = 0.00001\n",
    "    \n",
    "    a = Value(2.0, label='a')\n",
    "    b = Value(-3.0, label='b')\n",
    "    c = Value(10.0, label='c')\n",
    "    e = a * b; e.label = 'e'\n",
    "    d = e + c\n",
    "    d.label = 'd'\n",
    "    \n",
    "    f = Value(-2.0, label='f')\n",
    "    L = d * f\n",
    "    L.label = 'L'\n",
    "    L1 = L.data \n",
    "\n",
    "    a = Value(2.0 , label='a')\n",
    "    b = Value(-3.0, label='b')\n",
    "    c = Value(10.0, label='c')\n",
    "    e = a * b; e.label = 'e'\n",
    "    d = e + c\n",
    "    d.label = 'd'\n",
    "\n",
    "    f = Value(-2.0, label='f')\n",
    "    f.data += h\n",
    "    L = d * f\n",
    "    L.label = 'L'\n",
    "    L2 = L.data \n",
    "    \n",
    "    print((L2-L1)/h)\n",
    "\n",
    "lol()"
   ]
  },
  {
   "cell_type": "code",
   "execution_count": null,
   "id": "17c440dc-635f-467c-b830-398455ca1ed8",
   "metadata": {},
   "outputs": [],
   "source": [
    "#dL/dc\n",
    "def lol():\n",
    "    h = 0.00001\n",
    "    \n",
    "    a = Value(2.0, label='a')\n",
    "    b = Value(-3.0, label='b')\n",
    "    c = Value(10.0, label='c')\n",
    "    e = a * b; e.label = 'e'\n",
    "    d = e + c\n",
    "    d.label = 'd'\n",
    "    \n",
    "    f = Value(-2.0, label='f')\n",
    "    L = d * f\n",
    "    L.label = 'L'\n",
    "    L1 = L.data \n",
    "\n",
    "    a = Value(2.0 , label='a')\n",
    "    b = Value(-3.0, label='b')\n",
    "    c = Value(10.0, label='c')\n",
    "\n",
    "    c.data += h\n",
    "    \n",
    "    e = a * b; e.label = 'e'\n",
    "    d = e + c\n",
    "    d.label = 'd'\n",
    "\n",
    "    f = Value(-2.0, label='f')\n",
    "    L = d * f\n",
    "    L.label = 'L'\n",
    "    L2 = L.data \n",
    "    \n",
    "    print((L2-L1)/h)\n",
    "lol()"
   ]
  },
  {
   "cell_type": "code",
   "execution_count": null,
   "id": "0dc3429d-7aab-45ac-b593-8962a1fe24d8",
   "metadata": {},
   "outputs": [],
   "source": [
    "#dL/de\n",
    "def lol():\n",
    "    h = 0.00001\n",
    "    \n",
    "    a = Value(2.0, label='a')\n",
    "    b = Value(-3.0, label='b')\n",
    "    c = Value(10.0, label='c')\n",
    "    e = a * b; e.label = 'e'\n",
    "    d = e + c\n",
    "    d.label = 'd'\n",
    "    \n",
    "    f = Value(-2.0, label='f')\n",
    "    L = d * f\n",
    "    L.label = 'L'\n",
    "    L1 = L.data \n",
    "\n",
    "    a = Value(2.0 , label='a')\n",
    "    b = Value(-3.0, label='b')\n",
    "    c = Value(10.0, label='c')\n",
    "\n",
    "    \n",
    "    e = a * b; e.label = 'e'\n",
    "    e.data += h\n",
    "    d = e + c\n",
    "    d.label = 'd'\n",
    "\n",
    "    f = Value(-2.0, label='f')\n",
    "    L = d * f\n",
    "    L.label = 'L'\n",
    "    L2 = L.data \n",
    "    print((L2-L1)/h)\n",
    "lol()    "
   ]
  },
  {
   "cell_type": "code",
   "execution_count": null,
   "id": "0b038829-2d40-4adf-9491-10f0f06905e7",
   "metadata": {},
   "outputs": [],
   "source": [
    "#dL/da\n",
    "def lol():\n",
    "    h = 0.00001\n",
    "    \n",
    "    a = Value(2.0, label='a')\n",
    "    b = Value(-3.0, label='b')\n",
    "    c = Value(10.0, label='c')\n",
    "    e = a * b; e.label = 'e'\n",
    "    d = e + c\n",
    "    d.label = 'd'\n",
    "    \n",
    "    f = Value(-2.0, label='f')\n",
    "    L = d * f\n",
    "    L.label = 'L'\n",
    "    L1 = L.data \n",
    "\n",
    "    a = Value(2.0 , label='a')\n",
    "\n",
    "    a.data += h\n",
    "    \n",
    "    b = Value(-3.0, label='b')\n",
    "    c = Value(10.0, label='c')\n",
    "\n",
    "    \n",
    "    e = a * b; e.label = 'e'\n",
    "    d = e + c\n",
    "    d.label = 'd'\n",
    "\n",
    "    f = Value(-2.0, label='f')\n",
    "    L = d * f\n",
    "    L.label = 'L'\n",
    "    L2 = L.data \n",
    "    print((L2-L1)/h)\n",
    "lol()    "
   ]
  },
  {
   "cell_type": "code",
   "execution_count": null,
   "id": "5e075560-9335-4590-a47f-40a8ab806831",
   "metadata": {},
   "outputs": [],
   "source": [
    "#dL/db\n",
    "def lol():\n",
    "    h = 0.00001\n",
    "    \n",
    "    a = Value(2.0, label='a')\n",
    "    b = Value(-3.0, label='b')\n",
    "    c = Value(10.0, label='c')\n",
    "    e = a * b; e.label = 'e'\n",
    "    d = e + c\n",
    "    d.label = 'd'\n",
    "    \n",
    "    f = Value(-2.0, label='f')\n",
    "    L = d * f\n",
    "    L.label = 'L'\n",
    "    L1 = L.data \n",
    "\n",
    "    a = Value(2.0 , label='a')\n",
    "\n",
    "    \n",
    "    b = Value(-3.0, label='b')\n",
    "    b.data += h\n",
    "    c = Value(10.0, label='c')\n",
    "\n",
    "    \n",
    "    e = a * b; e.label = 'e'\n",
    "    d = e + c\n",
    "    d.label = 'd'\n",
    "\n",
    "    f = Value(-2.0, label='f')\n",
    "    L = d * f\n",
    "    L.label = 'L'\n",
    "    L2 = L.data \n",
    "    print((L2-L1)/h)\n",
    "lol()    "
   ]
  },
  {
   "cell_type": "markdown",
   "id": "e70e734c-d567-427f-9e67-af55730cea86",
   "metadata": {},
   "source": [
    "### Increase L in the positive"
   ]
  },
  {
   "cell_type": "code",
   "execution_count": null,
   "id": "eb4a2c8a-3f22-46fc-9310-4527b7d02457",
   "metadata": {},
   "outputs": [],
   "source": [
    "a.data += 0.01 * a.grad\n",
    "b.data += 0.01 * b.grad\n",
    "c.data += 0.01 * c.grad\n",
    "f.data += 0.01 * f.grad"
   ]
  },
  {
   "cell_type": "code",
   "execution_count": null,
   "id": "bd0b4e30-1951-49f8-a5be-fc0bafd213dc",
   "metadata": {},
   "outputs": [],
   "source": [
    "e = a * b\n",
    "d = e + c\n",
    "L = d * f\n",
    "\n",
    "print(L.data)"
   ]
  },
  {
   "cell_type": "code",
   "execution_count": null,
   "id": "239afd1a-fda5-441d-aa4b-84a6f2f23b1b",
   "metadata": {},
   "outputs": [],
   "source": [
    "#inputs \n",
    "x1 = Value(2.0,label='x1')\n",
    "x2 = Value(2.0,label='x2')\n",
    "\n",
    "#weights \n",
    "w1 = Value(-3.0, label=\"w1\")\n",
    "w2 = Value(1.0, label=\"w2\")\n",
    "\n",
    "#bias\n",
    "b = Value(6.7, label='b')\n",
    "\n",
    "x1w1 = x1 * w1; x1w1.label='x1*w1'\n",
    "x2w2 = x2 * w2; x2w2.label ='x2*w2'\n",
    "\n",
    "x1w1x2w2 = x1w1 + x2w2; x1w1x2w2.label='x1w1 + x2w2'\n",
    "n = x1w1x2w2 + b; n.label='n'"
   ]
  },
  {
   "cell_type": "code",
   "execution_count": null,
   "id": "6060b284-a81b-40d9-9b43-d44ecc936b48",
   "metadata": {},
   "outputs": [],
   "source": [
    "draw_dot(n)"
   ]
  },
  {
   "cell_type": "markdown",
   "id": "67b67bf2-5c65-4137-a733-81e300bfc3a1",
   "metadata": {},
   "source": [
    "### Implementing tanh"
   ]
  },
  {
   "cell_type": "code",
   "execution_count": null,
   "id": "651eceac-c129-465a-8681-8b3ccdf061f9",
   "metadata": {},
   "outputs": [],
   "source": [
    "class Value:\n",
    "    def __init__(self,data, _children=(), _op = '', label=''):\n",
    "        self.data = data\n",
    "        self._prev = set(_children)\n",
    "        self._op = _op\n",
    "        self.label = label\n",
    "        self.grad = 0.0\n",
    "    def __repr__(self):\n",
    "        return f\"Value(data={self.data})\"\n",
    "    def __add__(self, other):\n",
    "        out = Value(self.data + other.data, _children=(self, other), _op='+')\n",
    "        return out\n",
    "    def __mul__(self, other):\n",
    "        out = Value(self.data * other.data, _children=(self, other), _op='*')\n",
    "        return out\n",
    "    def tanh(self):\n",
    "        n = self.data\n",
    "        t = (math.exp(2*n) - 1)/(math.exp(2*n) + 1)\n",
    "        out = Value(t,_children=(self,), _op=\"tanh\")\n",
    "        return out"
   ]
  },
  {
   "cell_type": "code",
   "execution_count": null,
   "id": "c7e2cfeb-e3a8-4a13-bfbf-8707f58abe5b",
   "metadata": {},
   "outputs": [],
   "source": [
    "#inputs \n",
    "x1 = Value(2.0,label='x1')\n",
    "x2 = Value(0.0,label='x2')\n",
    "\n",
    "#weights \n",
    "w1 = Value(-3.0, label=\"w1\")\n",
    "w2 = Value(1.0, label=\"w2\")\n",
    "\n",
    "#bias\n",
    "# b = Value(6.7, label='b')\n",
    "b = Value(6.8813735870195432, label='b')\n",
    "\n",
    "x1w1 = x1 * w1; x1w1.label='x1*w1'\n",
    "x2w2 = x2 * w2; x2w2.label ='x2*w2'\n",
    "\n",
    "x1w1x2w2 = x1w1 + x2w2; x1w1x2w2.label='x1w1 + x2w2'\n",
    "n = x1w1x2w2 + b; n.label='n'\n",
    "o = n.tanh(); o.label='o'"
   ]
  },
  {
   "cell_type": "code",
   "execution_count": null,
   "id": "6a9c85a7-2515-45cd-9fa8-560d0d30d901",
   "metadata": {},
   "outputs": [],
   "source": [
    "o.grad = 1.0"
   ]
  },
  {
   "cell_type": "code",
   "execution_count": null,
   "id": "b6f36889-ea49-4e4b-863e-9cb39ff10109",
   "metadata": {},
   "outputs": [],
   "source": [
    "n.grad = 1 - o.data**2\n",
    "n.grad"
   ]
  },
  {
   "cell_type": "code",
   "execution_count": null,
   "id": "5ab6ecb2-a6f2-4fd5-a897-d2dcc8d6d454",
   "metadata": {},
   "outputs": [],
   "source": [
    "n.grad = 0.5"
   ]
  },
  {
   "cell_type": "code",
   "execution_count": 61,
   "id": "d3b3dffa-c58a-41f2-9031-715353de5b4e",
   "metadata": {},
   "outputs": [],
   "source": [
    "#+ sign equally flows the gradient ie same grad as that of n\n",
    "x1w1x2w2.grad = 0.5\n",
    "b.grad = 0.5"
   ]
  },
  {
   "cell_type": "code",
   "execution_count": 62,
   "id": "cd6c5663-5491-41b3-8e3e-75821da04667",
   "metadata": {},
   "outputs": [],
   "source": [
    "x1w1.grad = 0.5\n",
    "x2w2.grad = 0.5"
   ]
  },
  {
   "cell_type": "code",
   "execution_count": 63,
   "id": "19041b18-73d8-4774-b6d6-f5c895099397",
   "metadata": {},
   "outputs": [],
   "source": [
    "#multiply sign grad takes the data value of the other variuable times the grad of the independent variable\n",
    "x2.grad = w2.data * x2w2.grad\n",
    "w2.grad = x2.data * x2w2.grad\n",
    "\n",
    "x1.grad = w1.data * x1w1.grad\n",
    "w1.grad = x1.data * x1w1.grad"
   ]
  },
  {
   "cell_type": "code",
   "execution_count": 64,
   "id": "44d89a1f-d278-4b4d-950b-b58bb72a0db1",
   "metadata": {},
   "outputs": [
    {
     "data": {
      "image/svg+xml": [
       "<?xml version=\"1.0\" encoding=\"UTF-8\" standalone=\"no\"?>\n",
       "<!DOCTYPE svg PUBLIC \"-//W3C//DTD SVG 1.1//EN\"\n",
       " \"http://www.w3.org/Graphics/SVG/1.1/DTD/svg11.dtd\">\n",
       "<!-- Generated by graphviz version 2.43.0 (0)\n",
       " -->\n",
       "<!-- Title: %3 Pages: 1 -->\n",
       "<svg width=\"1832pt\" height=\"210pt\"\n",
       " viewBox=\"0.00 0.00 1831.69 210.00\" xmlns=\"http://www.w3.org/2000/svg\" xmlns:xlink=\"http://www.w3.org/1999/xlink\">\n",
       "<g id=\"graph0\" class=\"graph\" transform=\"scale(1 1) rotate(0) translate(4 206)\">\n",
       "<title>%3</title>\n",
       "<polygon fill=\"white\" stroke=\"transparent\" points=\"-4,4 -4,-206 1827.69,-206 1827.69,4 -4,4\"/>\n",
       "<!-- 125537332293776 -->\n",
       "<g id=\"node1\" class=\"node\">\n",
       "<title>125537332293776</title>\n",
       "<polygon fill=\"none\" stroke=\"black\" points=\"774,-82.5 774,-118.5 1099,-118.5 1099,-82.5 774,-82.5\"/>\n",
       "<text text-anchor=\"middle\" x=\"831\" y=\"-96.8\" font-family=\"Times,serif\" font-size=\"14.00\">x1w1 + x2w2</text>\n",
       "<polyline fill=\"none\" stroke=\"black\" points=\"888,-82.5 888,-118.5 \"/>\n",
       "<text text-anchor=\"middle\" x=\"941.5\" y=\"-96.8\" font-family=\"Times,serif\" font-size=\"14.00\">data &#45;6.0000</text>\n",
       "<polyline fill=\"none\" stroke=\"black\" points=\"995,-82.5 995,-118.5 \"/>\n",
       "<text text-anchor=\"middle\" x=\"1047\" y=\"-96.8\" font-family=\"Times,serif\" font-size=\"14.00\">grad 0.5000</text>\n",
       "</g>\n",
       "<!-- 125537332445648+ -->\n",
       "<g id=\"node14\" class=\"node\">\n",
       "<title>125537332445648+</title>\n",
       "<ellipse fill=\"none\" stroke=\"black\" cx=\"1162\" cy=\"-127.5\" rx=\"27\" ry=\"18\"/>\n",
       "<text text-anchor=\"middle\" x=\"1162\" y=\"-123.8\" font-family=\"Times,serif\" font-size=\"14.00\">+</text>\n",
       "</g>\n",
       "<!-- 125537332293776&#45;&gt;125537332445648+ -->\n",
       "<g id=\"edge13\" class=\"edge\">\n",
       "<title>125537332293776&#45;&gt;125537332445648+</title>\n",
       "<path fill=\"none\" stroke=\"black\" d=\"M1086.58,-118.51C1100.66,-120.21 1113.84,-121.8 1125.09,-123.16\"/>\n",
       "<polygon fill=\"black\" stroke=\"black\" points=\"1124.89,-126.66 1135.24,-124.39 1125.73,-119.71 1124.89,-126.66\"/>\n",
       "</g>\n",
       "<!-- 125537332293776+ -->\n",
       "<g id=\"node2\" class=\"node\">\n",
       "<title>125537332293776+</title>\n",
       "<ellipse fill=\"none\" stroke=\"black\" cx=\"711\" cy=\"-100.5\" rx=\"27\" ry=\"18\"/>\n",
       "<text text-anchor=\"middle\" x=\"711\" y=\"-96.8\" font-family=\"Times,serif\" font-size=\"14.00\">+</text>\n",
       "</g>\n",
       "<!-- 125537332293776+&#45;&gt;125537332293776 -->\n",
       "<g id=\"edge1\" class=\"edge\">\n",
       "<title>125537332293776+&#45;&gt;125537332293776</title>\n",
       "<path fill=\"none\" stroke=\"black\" d=\"M738.08,-100.5C745.51,-100.5 754.21,-100.5 763.74,-100.5\"/>\n",
       "<polygon fill=\"black\" stroke=\"black\" points=\"763.95,-104 773.95,-100.5 763.95,-97 763.95,-104\"/>\n",
       "</g>\n",
       "<!-- 125537332285072 -->\n",
       "<g id=\"node3\" class=\"node\">\n",
       "<title>125537332285072</title>\n",
       "<polygon fill=\"none\" stroke=\"black\" points=\"375,-110.5 375,-146.5 648,-146.5 648,-110.5 375,-110.5\"/>\n",
       "<text text-anchor=\"middle\" x=\"406\" y=\"-124.8\" font-family=\"Times,serif\" font-size=\"14.00\">x1*w1</text>\n",
       "<polyline fill=\"none\" stroke=\"black\" points=\"437,-110.5 437,-146.5 \"/>\n",
       "<text text-anchor=\"middle\" x=\"490.5\" y=\"-124.8\" font-family=\"Times,serif\" font-size=\"14.00\">data &#45;6.0000</text>\n",
       "<polyline fill=\"none\" stroke=\"black\" points=\"544,-110.5 544,-146.5 \"/>\n",
       "<text text-anchor=\"middle\" x=\"596\" y=\"-124.8\" font-family=\"Times,serif\" font-size=\"14.00\">grad 0.5000</text>\n",
       "</g>\n",
       "<!-- 125537332285072&#45;&gt;125537332293776+ -->\n",
       "<g id=\"edge7\" class=\"edge\">\n",
       "<title>125537332285072&#45;&gt;125537332293776+</title>\n",
       "<path fill=\"none\" stroke=\"black\" d=\"M639.53,-110.49C652.09,-108.71 663.99,-107.02 674.3,-105.56\"/>\n",
       "<polygon fill=\"black\" stroke=\"black\" points=\"675.03,-108.99 684.44,-104.12 674.05,-102.06 675.03,-108.99\"/>\n",
       "</g>\n",
       "<!-- 125537332285072* -->\n",
       "<g id=\"node4\" class=\"node\">\n",
       "<title>125537332285072*</title>\n",
       "<ellipse fill=\"none\" stroke=\"black\" cx=\"312\" cy=\"-128.5\" rx=\"27\" ry=\"18\"/>\n",
       "<text text-anchor=\"middle\" x=\"312\" y=\"-124.8\" font-family=\"Times,serif\" font-size=\"14.00\">*</text>\n",
       "</g>\n",
       "<!-- 125537332285072*&#45;&gt;125537332285072 -->\n",
       "<g id=\"edge2\" class=\"edge\">\n",
       "<title>125537332285072*&#45;&gt;125537332285072</title>\n",
       "<path fill=\"none\" stroke=\"black\" d=\"M339.23,-128.5C346.7,-128.5 355.41,-128.5 364.87,-128.5\"/>\n",
       "<polygon fill=\"black\" stroke=\"black\" points=\"364.98,-132 374.98,-128.5 364.98,-125 364.98,-132\"/>\n",
       "</g>\n",
       "<!-- 125537332288144 -->\n",
       "<g id=\"node5\" class=\"node\">\n",
       "<title>125537332288144</title>\n",
       "<polygon fill=\"none\" stroke=\"black\" points=\"0,-165.5 0,-201.5 249,-201.5 249,-165.5 0,-165.5\"/>\n",
       "<text text-anchor=\"middle\" x=\"19\" y=\"-179.8\" font-family=\"Times,serif\" font-size=\"14.00\">w1</text>\n",
       "<polyline fill=\"none\" stroke=\"black\" points=\"38,-165.5 38,-201.5 \"/>\n",
       "<text text-anchor=\"middle\" x=\"91.5\" y=\"-179.8\" font-family=\"Times,serif\" font-size=\"14.00\">data &#45;3.0000</text>\n",
       "<polyline fill=\"none\" stroke=\"black\" points=\"145,-165.5 145,-201.5 \"/>\n",
       "<text text-anchor=\"middle\" x=\"197\" y=\"-179.8\" font-family=\"Times,serif\" font-size=\"14.00\">grad 1.0000</text>\n",
       "</g>\n",
       "<!-- 125537332288144&#45;&gt;125537332285072* -->\n",
       "<g id=\"edge12\" class=\"edge\">\n",
       "<title>125537332288144&#45;&gt;125537332285072*</title>\n",
       "<path fill=\"none\" stroke=\"black\" d=\"M218.13,-165.46C228.63,-162.77 239.1,-159.78 249,-156.5 259.71,-152.96 271.05,-148.16 281.07,-143.54\"/>\n",
       "<polygon fill=\"black\" stroke=\"black\" points=\"282.67,-146.66 290.2,-139.21 279.67,-140.33 282.67,-146.66\"/>\n",
       "</g>\n",
       "<!-- 125537332291856 -->\n",
       "<g id=\"node6\" class=\"node\">\n",
       "<title>125537332291856</title>\n",
       "<polygon fill=\"none\" stroke=\"black\" points=\"377.5,-55.5 377.5,-91.5 645.5,-91.5 645.5,-55.5 377.5,-55.5\"/>\n",
       "<text text-anchor=\"middle\" x=\"408.5\" y=\"-69.8\" font-family=\"Times,serif\" font-size=\"14.00\">x2*w2</text>\n",
       "<polyline fill=\"none\" stroke=\"black\" points=\"439.5,-55.5 439.5,-91.5 \"/>\n",
       "<text text-anchor=\"middle\" x=\"490.5\" y=\"-69.8\" font-family=\"Times,serif\" font-size=\"14.00\">data 0.0000</text>\n",
       "<polyline fill=\"none\" stroke=\"black\" points=\"541.5,-55.5 541.5,-91.5 \"/>\n",
       "<text text-anchor=\"middle\" x=\"593.5\" y=\"-69.8\" font-family=\"Times,serif\" font-size=\"14.00\">grad 0.5000</text>\n",
       "</g>\n",
       "<!-- 125537332291856&#45;&gt;125537332293776+ -->\n",
       "<g id=\"edge8\" class=\"edge\">\n",
       "<title>125537332291856&#45;&gt;125537332293776+</title>\n",
       "<path fill=\"none\" stroke=\"black\" d=\"M644.24,-91.51C655.12,-93 665.4,-94.4 674.45,-95.64\"/>\n",
       "<polygon fill=\"black\" stroke=\"black\" points=\"674.11,-99.13 684.49,-97.01 675.05,-92.19 674.11,-99.13\"/>\n",
       "</g>\n",
       "<!-- 125537332291856* -->\n",
       "<g id=\"node7\" class=\"node\">\n",
       "<title>125537332291856*</title>\n",
       "<ellipse fill=\"none\" stroke=\"black\" cx=\"312\" cy=\"-73.5\" rx=\"27\" ry=\"18\"/>\n",
       "<text text-anchor=\"middle\" x=\"312\" y=\"-69.8\" font-family=\"Times,serif\" font-size=\"14.00\">*</text>\n",
       "</g>\n",
       "<!-- 125537332291856*&#45;&gt;125537332291856 -->\n",
       "<g id=\"edge3\" class=\"edge\">\n",
       "<title>125537332291856*&#45;&gt;125537332291856</title>\n",
       "<path fill=\"none\" stroke=\"black\" d=\"M339.23,-73.5C347.26,-73.5 356.72,-73.5 366.99,-73.5\"/>\n",
       "<polygon fill=\"black\" stroke=\"black\" points=\"367.08,-77 377.08,-73.5 367.08,-70 367.08,-77\"/>\n",
       "</g>\n",
       "<!-- 125537332445520 -->\n",
       "<g id=\"node8\" class=\"node\">\n",
       "<title>125537332445520</title>\n",
       "<polygon fill=\"none\" stroke=\"black\" points=\"1592.69,-109.5 1592.69,-145.5 1823.69,-145.5 1823.69,-109.5 1592.69,-109.5\"/>\n",
       "<text text-anchor=\"middle\" x=\"1605.19\" y=\"-123.8\" font-family=\"Times,serif\" font-size=\"14.00\">o</text>\n",
       "<polyline fill=\"none\" stroke=\"black\" points=\"1617.69,-109.5 1617.69,-145.5 \"/>\n",
       "<text text-anchor=\"middle\" x=\"1668.69\" y=\"-123.8\" font-family=\"Times,serif\" font-size=\"14.00\">data 0.7071</text>\n",
       "<polyline fill=\"none\" stroke=\"black\" points=\"1719.69,-109.5 1719.69,-145.5 \"/>\n",
       "<text text-anchor=\"middle\" x=\"1771.69\" y=\"-123.8\" font-family=\"Times,serif\" font-size=\"14.00\">grad 1.0000</text>\n",
       "</g>\n",
       "<!-- 125537332445520tanh -->\n",
       "<g id=\"node9\" class=\"node\">\n",
       "<title>125537332445520tanh</title>\n",
       "<ellipse fill=\"none\" stroke=\"black\" cx=\"1524.85\" cy=\"-127.5\" rx=\"31.7\" ry=\"18\"/>\n",
       "<text text-anchor=\"middle\" x=\"1524.85\" y=\"-123.8\" font-family=\"Times,serif\" font-size=\"14.00\">tanh</text>\n",
       "</g>\n",
       "<!-- 125537332445520tanh&#45;&gt;125537332445520 -->\n",
       "<g id=\"edge4\" class=\"edge\">\n",
       "<title>125537332445520tanh&#45;&gt;125537332445520</title>\n",
       "<path fill=\"none\" stroke=\"black\" d=\"M1557.02,-127.5C1564.61,-127.5 1573.19,-127.5 1582.31,-127.5\"/>\n",
       "<polygon fill=\"black\" stroke=\"black\" points=\"1582.4,-131 1592.4,-127.5 1582.4,-124 1582.4,-131\"/>\n",
       "</g>\n",
       "<!-- 125537332291408 -->\n",
       "<g id=\"node10\" class=\"node\">\n",
       "<title>125537332291408</title>\n",
       "<polygon fill=\"none\" stroke=\"black\" points=\"820.5,-137.5 820.5,-173.5 1052.5,-173.5 1052.5,-137.5 820.5,-137.5\"/>\n",
       "<text text-anchor=\"middle\" x=\"833.5\" y=\"-151.8\" font-family=\"Times,serif\" font-size=\"14.00\">b</text>\n",
       "<polyline fill=\"none\" stroke=\"black\" points=\"846.5,-137.5 846.5,-173.5 \"/>\n",
       "<text text-anchor=\"middle\" x=\"897.5\" y=\"-151.8\" font-family=\"Times,serif\" font-size=\"14.00\">data 6.8814</text>\n",
       "<polyline fill=\"none\" stroke=\"black\" points=\"948.5,-137.5 948.5,-173.5 \"/>\n",
       "<text text-anchor=\"middle\" x=\"1000.5\" y=\"-151.8\" font-family=\"Times,serif\" font-size=\"14.00\">grad 0.5000</text>\n",
       "</g>\n",
       "<!-- 125537332291408&#45;&gt;125537332445648+ -->\n",
       "<g id=\"edge9\" class=\"edge\">\n",
       "<title>125537332291408&#45;&gt;125537332445648+</title>\n",
       "<path fill=\"none\" stroke=\"black\" d=\"M1052.52,-141.09C1079,-137.77 1105.23,-134.49 1125.26,-131.98\"/>\n",
       "<polygon fill=\"black\" stroke=\"black\" points=\"1125.94,-135.42 1135.43,-130.7 1125.07,-128.47 1125.94,-135.42\"/>\n",
       "</g>\n",
       "<!-- 125537332295056 -->\n",
       "<g id=\"node11\" class=\"node\">\n",
       "<title>125537332295056</title>\n",
       "<polygon fill=\"none\" stroke=\"black\" points=\"2.5,-55.5 2.5,-91.5 246.5,-91.5 246.5,-55.5 2.5,-55.5\"/>\n",
       "<text text-anchor=\"middle\" x=\"21.5\" y=\"-69.8\" font-family=\"Times,serif\" font-size=\"14.00\">w2</text>\n",
       "<polyline fill=\"none\" stroke=\"black\" points=\"40.5,-55.5 40.5,-91.5 \"/>\n",
       "<text text-anchor=\"middle\" x=\"91.5\" y=\"-69.8\" font-family=\"Times,serif\" font-size=\"14.00\">data 1.0000</text>\n",
       "<polyline fill=\"none\" stroke=\"black\" points=\"142.5,-55.5 142.5,-91.5 \"/>\n",
       "<text text-anchor=\"middle\" x=\"194.5\" y=\"-69.8\" font-family=\"Times,serif\" font-size=\"14.00\">grad 0.0000</text>\n",
       "</g>\n",
       "<!-- 125537332295056&#45;&gt;125537332291856* -->\n",
       "<g id=\"edge10\" class=\"edge\">\n",
       "<title>125537332295056&#45;&gt;125537332291856*</title>\n",
       "<path fill=\"none\" stroke=\"black\" d=\"M246.64,-73.5C256.7,-73.5 266.26,-73.5 274.79,-73.5\"/>\n",
       "<polygon fill=\"black\" stroke=\"black\" points=\"275,-77 285,-73.5 275,-70 275,-77\"/>\n",
       "</g>\n",
       "<!-- 125537332293008 -->\n",
       "<g id=\"node12\" class=\"node\">\n",
       "<title>125537332293008</title>\n",
       "<polygon fill=\"none\" stroke=\"black\" points=\"2.5,-110.5 2.5,-146.5 246.5,-146.5 246.5,-110.5 2.5,-110.5\"/>\n",
       "<text text-anchor=\"middle\" x=\"19.5\" y=\"-124.8\" font-family=\"Times,serif\" font-size=\"14.00\">x1</text>\n",
       "<polyline fill=\"none\" stroke=\"black\" points=\"36.5,-110.5 36.5,-146.5 \"/>\n",
       "<text text-anchor=\"middle\" x=\"87.5\" y=\"-124.8\" font-family=\"Times,serif\" font-size=\"14.00\">data 2.0000</text>\n",
       "<polyline fill=\"none\" stroke=\"black\" points=\"138.5,-110.5 138.5,-146.5 \"/>\n",
       "<text text-anchor=\"middle\" x=\"192.5\" y=\"-124.8\" font-family=\"Times,serif\" font-size=\"14.00\">grad &#45;1.5000</text>\n",
       "</g>\n",
       "<!-- 125537332293008&#45;&gt;125537332285072* -->\n",
       "<g id=\"edge6\" class=\"edge\">\n",
       "<title>125537332293008&#45;&gt;125537332285072*</title>\n",
       "<path fill=\"none\" stroke=\"black\" d=\"M246.64,-128.5C256.7,-128.5 266.26,-128.5 274.79,-128.5\"/>\n",
       "<polygon fill=\"black\" stroke=\"black\" points=\"275,-132 285,-128.5 275,-125 275,-132\"/>\n",
       "</g>\n",
       "<!-- 125537332445648 -->\n",
       "<g id=\"node13\" class=\"node\">\n",
       "<title>125537332445648</title>\n",
       "<polygon fill=\"none\" stroke=\"black\" points=\"1225,-109.5 1225,-145.5 1457,-145.5 1457,-109.5 1225,-109.5\"/>\n",
       "<text text-anchor=\"middle\" x=\"1238\" y=\"-123.8\" font-family=\"Times,serif\" font-size=\"14.00\">n</text>\n",
       "<polyline fill=\"none\" stroke=\"black\" points=\"1251,-109.5 1251,-145.5 \"/>\n",
       "<text text-anchor=\"middle\" x=\"1302\" y=\"-123.8\" font-family=\"Times,serif\" font-size=\"14.00\">data 0.8814</text>\n",
       "<polyline fill=\"none\" stroke=\"black\" points=\"1353,-109.5 1353,-145.5 \"/>\n",
       "<text text-anchor=\"middle\" x=\"1405\" y=\"-123.8\" font-family=\"Times,serif\" font-size=\"14.00\">grad 0.5000</text>\n",
       "</g>\n",
       "<!-- 125537332445648&#45;&gt;125537332445520tanh -->\n",
       "<g id=\"edge14\" class=\"edge\">\n",
       "<title>125537332445648&#45;&gt;125537332445520tanh</title>\n",
       "<path fill=\"none\" stroke=\"black\" d=\"M1457.17,-127.5C1466.08,-127.5 1474.66,-127.5 1482.53,-127.5\"/>\n",
       "<polygon fill=\"black\" stroke=\"black\" points=\"1482.78,-131 1492.78,-127.5 1482.78,-124 1482.78,-131\"/>\n",
       "</g>\n",
       "<!-- 125537332445648+&#45;&gt;125537332445648 -->\n",
       "<g id=\"edge5\" class=\"edge\">\n",
       "<title>125537332445648+&#45;&gt;125537332445648</title>\n",
       "<path fill=\"none\" stroke=\"black\" d=\"M1189.12,-127.5C1196.53,-127.5 1205.14,-127.5 1214.4,-127.5\"/>\n",
       "<polygon fill=\"black\" stroke=\"black\" points=\"1214.69,-131 1224.69,-127.5 1214.69,-124 1214.69,-131\"/>\n",
       "</g>\n",
       "<!-- 125537332288464 -->\n",
       "<g id=\"node15\" class=\"node\">\n",
       "<title>125537332288464</title>\n",
       "<polygon fill=\"none\" stroke=\"black\" points=\"4.5,-0.5 4.5,-36.5 244.5,-36.5 244.5,-0.5 4.5,-0.5\"/>\n",
       "<text text-anchor=\"middle\" x=\"21.5\" y=\"-14.8\" font-family=\"Times,serif\" font-size=\"14.00\">x2</text>\n",
       "<polyline fill=\"none\" stroke=\"black\" points=\"38.5,-0.5 38.5,-36.5 \"/>\n",
       "<text text-anchor=\"middle\" x=\"89.5\" y=\"-14.8\" font-family=\"Times,serif\" font-size=\"14.00\">data 0.0000</text>\n",
       "<polyline fill=\"none\" stroke=\"black\" points=\"140.5,-0.5 140.5,-36.5 \"/>\n",
       "<text text-anchor=\"middle\" x=\"192.5\" y=\"-14.8\" font-family=\"Times,serif\" font-size=\"14.00\">grad 0.5000</text>\n",
       "</g>\n",
       "<!-- 125537332288464&#45;&gt;125537332291856* -->\n",
       "<g id=\"edge11\" class=\"edge\">\n",
       "<title>125537332288464&#45;&gt;125537332291856*</title>\n",
       "<path fill=\"none\" stroke=\"black\" d=\"M214.42,-36.55C226.15,-39.54 237.93,-42.87 249,-46.5 259.46,-49.93 270.57,-54.47 280.46,-58.84\"/>\n",
       "<polygon fill=\"black\" stroke=\"black\" points=\"279.31,-62.17 289.87,-63.12 282.21,-55.79 279.31,-62.17\"/>\n",
       "</g>\n",
       "</g>\n",
       "</svg>\n"
      ],
      "text/plain": [
       "<graphviz.graphs.Digraph at 0x722cf016abd0>"
      ]
     },
     "execution_count": 64,
     "metadata": {},
     "output_type": "execute_result"
    }
   ],
   "source": [
    "draw_dot(o)"
   ]
  },
  {
   "cell_type": "code",
   "execution_count": null,
   "id": "2df7aa01-9b62-497b-8258-d00b59d12d1e",
   "metadata": {},
   "outputs": [],
   "source": []
  }
 ],
 "metadata": {
  "kernelspec": {
   "display_name": "Python 3 (ipykernel)",
   "language": "python",
   "name": "python3"
  },
  "language_info": {
   "codemirror_mode": {
    "name": "ipython",
    "version": 3
   },
   "file_extension": ".py",
   "mimetype": "text/x-python",
   "name": "python",
   "nbconvert_exporter": "python",
   "pygments_lexer": "ipython3",
   "version": "3.11.9"
  }
 },
 "nbformat": 4,
 "nbformat_minor": 5
}
